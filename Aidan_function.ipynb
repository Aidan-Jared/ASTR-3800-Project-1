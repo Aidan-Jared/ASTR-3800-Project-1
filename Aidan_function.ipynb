{
 "cells": [
  {
   "cell_type": "code",
   "execution_count": 1,
   "metadata": {
    "collapsed": true
   },
   "outputs": [],
   "source": [
    "import numpy as np"
   ]
  },
  {
   "cell_type": "code",
   "execution_count": 2,
   "metadata": {
    "collapsed": true
   },
   "outputs": [],
   "source": [
    "def pause():\n",
    "#\n",
    "# pauses until a keyboard entry (e.g. carrage return)\n",
    "#\n",
    "     print '\\r'\n",
    "     dummy = raw_input('Pause')\n",
    "     print '\\r'"
   ]
  },
  {
   "cell_type": "code",
   "execution_count": 3,
   "metadata": {
    "collapsed": true
   },
   "outputs": [],
   "source": [
    "def npRan(it):\n",
    "    # it is the number of iterations the random number generator goes through\n",
    "    x = np.random.uniform(0,1,it)\n",
    "    y = np.random.uniform(0,1,it)\n",
    "    z = np.random.uniform(0,1,it)\n",
    "    return x, y, z"
   ]
  },
  {
   "cell_type": "code",
   "execution_count": 4,
   "metadata": {
    "collapsed": true
   },
   "outputs": [],
   "source": [
    "def johnRan(seed1,seed2,seed3,it):\n",
    "    #makes empty arrays for the random numbers\n",
    "    ran = np.array([])\n",
    "    ran1 = np.array([])\n",
    "    ran2 = np.array([])\n",
    "    for n in range(it):\n",
    "        g = str(seed1**2) #squares the seed and turns it to a string\n",
    "        thing = float(g[2:8]) #extracts the middle 6 numbers and makes it into a float\n",
    "        seed1 = thing\n",
    "        thing = thing/1e6\n",
    "        ran = np.append(ran, thing)\n",
    "        if n > 0 and ran[n] == ran[n-1]: #checks to make sure that it doesn't keep printing the same number\n",
    "            seed1 = seed1 + 10.\n",
    "    for n in range(it):\n",
    "        g1 = str(seed2**2)\n",
    "        thing1 = float(g1[2:8])\n",
    "        seed2 = thing1\n",
    "        thing1 = thing1/1e6\n",
    "        ran1 = np.append(ran1, thing1)\n",
    "        if n > 0 and ran1[n] == ran1[n-1]:\n",
    "            seed2 = seed2 + 10.\n",
    "    for n in range(it):\n",
    "        g2 = str(seed3**2)\n",
    "        thing2 = float(g2[2:8])\n",
    "        seed3 = thing2\n",
    "        thing2 = thing2/1e6\n",
    "        ran2 = np.append(ran2, thing2)\n",
    "        if n > 0 and ran2[n] == ran2[n-1]:\n",
    "            seed3 = seed3 + 10.\n",
    "    return ran, ran1, ran2"
   ]
  },
  {
   "cell_type": "code",
   "execution_count": null,
   "metadata": {
    "collapsed": true
   },
   "outputs": [],
   "source": []
  }
 ],
 "metadata": {
  "kernelspec": {
   "display_name": "Python 2",
   "language": "python",
   "name": "python2"
  },
  "language_info": {
   "codemirror_mode": {
    "name": "ipython",
    "version": 2
   },
   "file_extension": ".py",
   "mimetype": "text/x-python",
   "name": "python",
   "nbconvert_exporter": "python",
   "pygments_lexer": "ipython2",
   "version": "2.7.10"
  }
 },
 "nbformat": 4,
 "nbformat_minor": 0
}
